{
 "cells": [
  {
   "cell_type": "markdown",
   "metadata": {},
   "source": [
    "# Worksheet 08\n",
    "\n",
    "Name: Dayu Li \n",
    "UID: U61453443\n",
    "\n",
    "### Topics\n",
    "\n",
    "- Soft Clustering\n",
    "- Clustering Aggregation\n",
    "\n",
    "### Probability Review\n",
    "\n",
    "Read through [the following](https://medium.com/@gallettilance/overview-of-probability-3272b72c82c8)\n",
    "\n",
    "### Soft Clustering\n",
    "\n",
    "We generate 10 data points that come from a normal distribution with mean 5 and variance 1."
   ]
  },
  {
   "cell_type": "code",
   "execution_count": 2,
   "metadata": {},
   "outputs": [
    {
     "name": "stdout",
     "output_type": "stream",
     "text": [
      "[5.774839596547915, 5.706248853136028, 4.306880233289141, 3.869520145120187, 6.918372251953881, 4.589531183609753, 4.486647927987525, 6.312297193194249, 4.897799554082781, 4.545348102607723]\n"
     ]
    }
   ],
   "source": [
    "import random\n",
    "import numpy as np\n",
    "from sklearn.cluster import KMeans\n",
    "\n",
    "mean = 5\n",
    "stdev = 1\n",
    "\n",
    "s1 = np.random.normal(mean, stdev, 10).tolist()\n",
    "print(s1)"
   ]
  },
  {
   "cell_type": "markdown",
   "metadata": {},
   "source": [
    "a) Generate 10 more data points, this time coming from a normal distribution with mean 8 and variance 1."
   ]
  },
  {
   "cell_type": "code",
   "execution_count": 3,
   "metadata": {},
   "outputs": [
    {
     "name": "stdout",
     "output_type": "stream",
     "text": [
      "[7.408172166325048, 8.43016797291426, 8.839187020628659, 10.21442097430089, 7.082736249903924, 9.291040102507086, 6.641308727093904, 5.7464039472401085, 8.475825475525564, 6.710961460748394]\n"
     ]
    }
   ],
   "source": [
    "s2 = np.random.normal( 8 , 1 , 10 ).tolist()\n",
    "print(s2)"
   ]
  },
  {
   "attachments": {},
   "cell_type": "markdown",
   "metadata": {},
   "source": [
    "b) Flip a fair coin 10 times. If the coin lands on H, then pick the last data point of `s1` and remove it from `s1`, if T then pick the last data point from `s2` and remove it from `s2`. Add these 10 points to a list called `data`."
   ]
  },
  {
   "cell_type": "code",
   "execution_count": 4,
   "metadata": {},
   "outputs": [
    {
     "name": "stdout",
     "output_type": "stream",
     "text": [
      "[6.710961460748394, 4.545348102607723, 8.475825475525564, 5.7464039472401085, 4.897799554082781, 6.312297193194249, 6.641308727093904, 9.291040102507086, 4.486647927987525, 7.082736249903924]\n"
     ]
    }
   ],
   "source": [
    "data = []\n",
    "for i in range(10):\n",
    "    # flip coin\n",
    "    coin_output = random.choice([0, 1])\n",
    "    if coin_output == 0:\n",
    "        p1 = s1.pop()\n",
    "        data.append(p1)\n",
    "    else:\n",
    "        p2 = s2.pop()\n",
    "        data.append(p2)\n",
    "print(data)"
   ]
  },
  {
   "cell_type": "markdown",
   "metadata": {},
   "source": [
    "c) This `data` is a Gaussian Mixture Distribution with 2 mixture components. Over the next few questions we will walk through the GMM algorithm to see if we can uncover the parameters we used to generate this data. First, please list all these parameters of the GMM that created `data` and the values we know they have."
   ]
  },
  {
   "cell_type": "markdown",
   "metadata": {},
   "source": [
    "1.number of components (K):2\n",
    "2.means (μ) of each component:5, 8\n",
    "3.variances (σ²) of each component:1\n",
    "4.mixture weights (π) of Each Component:0.5"
   ]
  },
  {
   "cell_type": "markdown",
   "metadata": {},
   "source": [
    "d) Let's assume there are two mixture components (note: we could plot the data and make the observation that there are two clusters). The EM algorithm asks us to start with a random `mean_j`, `variance_j`, `P(S_j)` for each component j. One method we could use to find sensible values for these is to apply K means with k=2 here.\n",
    "\n",
    "1. the centroids would be the estimates of the `mean_j`\n",
    "2. the intra-cluster variance could be the estimate of `variance_j`\n",
    "3. the proportion of points in each cluster could be the estimate of `P(S_j)`\n",
    "\n",
    "Go through this process and list the parameter estimates it gives. Are they close or far from the true values?"
   ]
  },
  {
   "cell_type": "code",
   "execution_count": 6,
   "metadata": {},
   "outputs": [
    {
     "name": "stdout",
     "output_type": "stream",
     "text": [
      "[8.475825475525564, 9.291040102507086]\n",
      "[6.710961460748394, 4.545348102607723, 5.7464039472401085, 4.897799554082781, 6.312297193194249, 6.641308727093904, 4.486647927987525, 7.082736249903924]\n",
      "P(S_1) = 0.2,  P(S_2) = 0.8\n",
      "mean_1 = 8.883432789016325,  mean_2 = 5.802937895357326\n",
      "var_1 = 0.1661437220111555,  var_2 = 0.9451657548208288\n"
     ]
    },
    {
     "name": "stderr",
     "output_type": "stream",
     "text": [
      "/Users/dayuli/anaconda3/lib/python3.11/site-packages/sklearn/cluster/_kmeans.py:1412: FutureWarning: The default value of `n_init` will change from 10 to 'auto' in 1.4. Set the value of `n_init` explicitly to suppress the warning\n",
      "  super()._check_params_vs_input(X, default_n_init=10)\n"
     ]
    }
   ],
   "source": [
    "kmeans = KMeans(2, init='k-means++').fit(X=np.array(data).reshape(-1, 1))\n",
    "\n",
    "s1 = [x[0] for x in filter(lambda x: x[1] == 0, zip(data, kmeans.labels_))]\n",
    "print(s1)\n",
    "s2 = [x[0] for x in filter(lambda x: x[1] == 1, zip(data, kmeans.labels_))]\n",
    "\n",
    "print(s2)\n",
    "\n",
    "prob_s = [ len(s1) / (len(s1) + len(s2)) , len(s2) / (len(s1) + len(s2)) ]\n",
    "mean = [ sum(s1)/len(s1) , sum(s2)/len(s2) ]\n",
    "var = [ sum(map(lambda x : (x - mean[0])**2, s1)) / len(s1) , sum(map(lambda x : (x - mean[1])**2, s2)) / len(s2) ]\n",
    "\n",
    "print(\"P(S_1) = \" + str(prob_s[0]) + \",  P(S_2) = \" + str(prob_s[1]))\n",
    "print(\"mean_1 = \" + str(mean[0]) + \",  mean_2 = \" + str(mean[1]))\n",
    "print(\"var_1 = \" + str(var[0]) + \",  var_2 = \" + str(var[1]))"
   ]
  },
  {
   "cell_type": "markdown",
   "metadata": {},
   "source": [
    "The number of components and their rough positions (means) are correctly identified.\n",
    "The estimated proportions deviate from the true mixture weights, which were both 0.5, indicating an equal distribution between the two components. This discrepancy could be due to the random nature of the data generation and selection process.\n",
    "The mean estimates are relatively close to the true means of 5 and 8. However, the variance estimates are somewhat close but not exact, especially for the second component where the estimated variance is smaller than the true variance of 1 for both components."
   ]
  },
  {
   "cell_type": "markdown",
   "metadata": {},
   "source": [
    "e) For each data point, compute `P(S_j | X_i)`. Comment on which cluster you think each point belongs to based on the estimated probabilities. How does that compare to the truth?"
   ]
  },
  {
   "cell_type": "code",
   "execution_count": 7,
   "metadata": {},
   "outputs": [
    {
     "name": "stdout",
     "output_type": "stream",
     "text": [
      "point =  6.710961460748394\n",
      "probability of observing that point if it came from cluster 0 =  1.7907084483139213e-37\n",
      "probability of observing that point if it came from cluster 1 =  0.26606392369541126\n",
      "point =  4.545348102607723\n",
      "probability of observing that point if it came from cluster 0 =  2.1840385949540603e-148\n",
      "probability of observing that point if it came from cluster 1 =  0.17416981413872168\n",
      "point =  8.475825475525564\n",
      "probability of observing that point if it came from cluster 0 =  0.11842456600729132\n",
      "probability of observing that point if it came from cluster 1 =  0.007741093111931622\n",
      "point =  5.7464039472401085\n",
      "probability of observing that point if it came from cluster 0 =  9.241027934574888e-78\n",
      "probability of observing that point if it came from cluster 1 =  0.42133273495985407\n",
      "point =  4.897799554082781\n",
      "probability of observing that point if it came from cluster 0 =  2.615305709840589e-125\n",
      "probability of observing that point if it came from cluster 1 =  0.26684409889505845\n",
      "point =  6.312297193194249\n",
      "probability of observing that point if it came from cluster 0 =  2.3793986076248497e-52\n",
      "probability of observing that point if it came from cluster 1 =  0.365037360087977\n",
      "point =  6.641308727093904\n",
      "probability of observing that point if it came from cluster 0 =  6.825559261795209e-40\n",
      "probability of observing that point if it came from cluster 1 =  0.2848090470795727\n",
      "point =  9.291040102507086\n",
      "probability of observing that point if it came from cluster 0 =  0.11842456600729132\n",
      "probability of observing that point if it came from cluster 1 =  0.0004655394564386791\n",
      "point =  4.486647927987525\n",
      "probability of observing that point if it came from cluster 0 =  2.0218943179563403e-152\n",
      "probability of observing that point if it came from cluster 1 =  0.16004699816580842\n",
      "point =  7.082736249903924\n",
      "probability of observing that point if it came from cluster 0 =  7.46361256558301e-26\n",
      "probability of observing that point if it came from cluster 1 =  0.16876222782379788\n",
      "6.710961460748394\n",
      "Probability of coming from S_1 = 1.6825923103764304e-37\n",
      "Probability of coming from S_2 = 1.0\n",
      "\n",
      "4.545348102607723\n",
      "Probability of coming from S_1 = 3.134926975943333e-148\n",
      "Probability of coming from S_2 = 1.0\n",
      "\n",
      "8.475825475525564\n",
      "Probability of coming from S_1 = 0.7927264711299217\n",
      "Probability of coming from S_2 = 0.20727352887007833\n",
      "\n",
      "5.7464039472401085\n",
      "Probability of coming from S_1 = 5.483212653447993e-78\n",
      "Probability of coming from S_2 = 1.0\n",
      "\n",
      "4.897799554082781\n",
      "Probability of coming from S_1 = 2.450218798794861e-125\n",
      "Probability of coming from S_2 = 1.0\n",
      "\n",
      "6.312297193194249\n",
      "Probability of coming from S_1 = 1.6295582779878989e-52\n",
      "Probability of coming from S_2 = 1.0\n",
      "\n",
      "6.641308727093904\n",
      "Probability of coming from S_1 = 5.991346949635537e-40\n",
      "Probability of coming from S_2 = 1.0\n",
      "\n",
      "9.291040102507086\n",
      "Probability of coming from S_1 = 0.9845190078637496\n",
      "Probability of coming from S_2 = 0.01548099213625046\n",
      "\n",
      "4.486647927987525\n",
      "Probability of coming from S_1 = 3.1582821626271013e-152\n",
      "Probability of coming from S_2 = 1.0\n",
      "\n",
      "7.082736249903924\n",
      "Probability of coming from S_1 = 1.1056402640903236e-25\n",
      "Probability of coming from S_2 = 1.0\n",
      "\n"
     ]
    }
   ],
   "source": [
    "from scipy.stats import norm\n",
    "\n",
    "prob_s0_x = [] # P(S_0 | X_i)\n",
    "prob_s1_x = [] # P(S_1 | X_i)\n",
    "prob_x = [] # P(X_i)\n",
    "\n",
    "k = 2\n",
    "\n",
    "for p in data:\n",
    "    print(\"point = \", p)\n",
    "    pdf_i = []\n",
    "\n",
    "    for j in range(k):\n",
    "        # P(X_i | S_j)\n",
    "        pdf_i.append(norm.pdf(p, mean[j], var[j]))\n",
    "        print(\"probability of observing that point if it came from cluster \" + str(j) + \" = \", pdf_i[j])\n",
    "        # P(S_j) already computed\n",
    "        prob_s[j]\n",
    "\n",
    "    # P(X_i) = P(S_0)P(X_i | S_0) + P(S_1)P(X_i | S_1)\n",
    "    prob_x = prob_s[0] * pdf_i[0] + prob_s[1] * pdf_i[1]\n",
    "\n",
    "    # P(S_j | X_i) = P(X_i | S_j)P(S_j) / P(X_i)\n",
    "    prob_s0_x.append( pdf_i[0] * prob_s[0] / prob_x )\n",
    "    prob_s1_x.append( pdf_i[1] * prob_s[1] / prob_x )\n",
    "\n",
    "probs = zip(data, prob_s0_x, prob_s1_x)\n",
    "for p in probs:\n",
    "    print(p[0])\n",
    "    print(\"Probability of coming from S_1 = \" + str(p[1]))\n",
    "    print(\"Probability of coming from S_2 = \" + str(p[2]))\n",
    "    print()\n"
   ]
  },
  {
   "cell_type": "markdown",
   "metadata": {},
   "source": [
    "f) Having computed `P(S_j | X_i)`, update the estimates of `mean_j`, `var_j`, and `P(S_j)`. How different are these values from the original ones you got from K means? briefly comment."
   ]
  },
  {
   "cell_type": "code",
   "execution_count": 8,
   "metadata": {},
   "outputs": [
    {
     "name": "stdout",
     "output_type": "stream",
     "text": [
      "P(S_1) = 0.2,  P(S_2) = 0.8\n",
      "mean_1 = 8.927419982439893,  mean_2 = 5.876881258533317\n",
      "var_1 = 0.16420884882587328,  var_2 = 1.1170894384763785\n"
     ]
    }
   ],
   "source": [
    "prob_c = [sum(prob_s0_x)/ len(prob_s0_x), sum(prob_s1_x)/ len(prob_s1_x) ]\n",
    "mean = [sum([x[0] * x[1] for x in zip(prob_s0_x, data)]) / sum(prob_s0_x), sum([x[0] * x[1] for x in zip(prob_s1_x, data)]) / sum(prob_s1_x) ]\n",
    "var = [ sum([(x - mean[0])**2 * p for x, p in zip(data, prob_s0_x)]) / sum(prob_s0_x),\n",
    "    sum([(x - mean[1])**2 * p for x, p in zip(data, prob_s1_x)]) / sum(prob_s1_x)\n",
    " ]\n",
    "\n",
    "print(\"P(S_1) = \" + str(prob_s[0]) + \",  P(S_2) = \" + str(prob_s[1]))\n",
    "print(\"mean_1 = \" + str(mean[0]) + \",  mean_2 = \" + str(mean[1]))\n",
    "print(\"var_1 = \" + str(var[0]) + \",  var_2 = \" + str(var[1]))"
   ]
  },
  {
   "cell_type": "markdown",
   "metadata": {},
   "source": [
    "Ps and means are almost the same, while variance_2 are little bit different. But the values are almost the same."
   ]
  },
  {
   "cell_type": "markdown",
   "metadata": {},
   "source": [
    "g) Update `P(S_j | X_i)`. Comment on any differences or lack thereof you observe."
   ]
  },
  {
   "cell_type": "code",
   "execution_count": 14,
   "metadata": {},
   "outputs": [
    {
     "name": "stdout",
     "output_type": "stream",
     "text": [
      "Data Point 1: 6.7110\n",
      "  Probability of Cluster 0 (S_0): 0.000000\n",
      "  Probability of Cluster 1 (S_1): 1.000000\n",
      "Data Point 2: 4.5453\n",
      "  Probability of Cluster 0 (S_0): 0.000000\n",
      "  Probability of Cluster 1 (S_1): 1.000000\n",
      "Data Point 3: 8.4758\n",
      "  Probability of Cluster 0 (S_0): 0.861657\n",
      "  Probability of Cluster 1 (S_1): 0.138343\n",
      "Data Point 4: 5.7464\n",
      "  Probability of Cluster 0 (S_0): 0.000000\n",
      "  Probability of Cluster 1 (S_1): 1.000000\n",
      "Data Point 5: 4.8978\n",
      "  Probability of Cluster 0 (S_0): 0.000000\n",
      "  Probability of Cluster 1 (S_1): 1.000000\n",
      "Data Point 6: 6.3123\n",
      "  Probability of Cluster 0 (S_0): 0.000000\n",
      "  Probability of Cluster 1 (S_1): 1.000000\n",
      "Data Point 7: 6.6413\n",
      "  Probability of Cluster 0 (S_0): 0.000000\n",
      "  Probability of Cluster 1 (S_1): 1.000000\n",
      "Data Point 8: 9.2910\n",
      "  Probability of Cluster 0 (S_0): 0.985819\n",
      "  Probability of Cluster 1 (S_1): 0.014181\n",
      "Data Point 9: 4.4866\n",
      "  Probability of Cluster 0 (S_0): 0.000000\n",
      "  Probability of Cluster 1 (S_1): 1.000000\n",
      "Data Point 10: 7.0827\n",
      "  Probability of Cluster 0 (S_0): 0.000034\n",
      "  Probability of Cluster 1 (S_1): 0.999966\n"
     ]
    }
   ],
   "source": [
    "prob_s0_x_updated = []  # P(S_0 | X_i)\n",
    "prob_s1_x_updated = []  # P(S_1 | X_i)\n",
    "\n",
    "for x in data:\n",
    "    pdf_0 = norm.pdf(x, mean[0], np.sqrt(var[0]))\n",
    "    pdf_1 = norm.pdf(x, mean[1], np.sqrt(var[1]))\n",
    "    \n",
    "    total_prob = (pdf_0 * prob_c[0]) + (pdf_1 * prob_c[1])\n",
    "    \n",
    "    prob_s0_x_updated.append((pdf_0 * prob_c[0]) / total_prob)\n",
    "    prob_s1_x_updated.append((pdf_1 * prob_c[1]) / total_prob)\n",
    "\n",
    "for i, (x, prob_0, prob_1) in enumerate(zip(data, prob_s0_x_updated, prob_s1_x_updated)):\n",
    "    print(f\"Data Point {i+1}: {x:.4f}\")\n",
    "    print(f\"  Probability of Cluster 0 (S_0): {prob_0:.6f}\")\n",
    "    print(f\"  Probability of Cluster 1 (S_1): {prob_1:.6f}\")\n",
    "    "
   ]
  },
  {
   "cell_type": "markdown",
   "metadata": {},
   "source": [
    "On point 10 the Probability becomes less extream than before."
   ]
  },
  {
   "cell_type": "markdown",
   "metadata": {},
   "source": [
    "h) Use `P(S_j | X_i)` to create a hard assignment - label each point as belonging to a specific cluster (0 or 1)"
   ]
  },
  {
   "cell_type": "code",
   "execution_count": 15,
   "metadata": {},
   "outputs": [
    {
     "data": {
      "text/plain": [
       "[1, 1, 0, 1, 1, 1, 1, 0, 1, 1]"
      ]
     },
     "execution_count": 15,
     "metadata": {},
     "output_type": "execute_result"
    }
   ],
   "source": [
    "hard_assignments = [0 if p_s0 > p_s1 else 1 for p_s0, p_s1 in zip(prob_s0_x_updated, prob_s1_x_updated)]\n",
    "\n",
    "hard_assignments"
   ]
  },
  {
   "cell_type": "code",
   "execution_count": null,
   "metadata": {},
   "outputs": [],
   "source": []
  }
 ],
 "metadata": {
  "kernelspec": {
   "display_name": "Python 3 (ipykernel)",
   "language": "python",
   "name": "python3"
  },
  "language_info": {
   "codemirror_mode": {
    "name": "ipython",
    "version": 3
   },
   "file_extension": ".py",
   "mimetype": "text/x-python",
   "name": "python",
   "nbconvert_exporter": "python",
   "pygments_lexer": "ipython3",
   "version": "3.11.5"
  },
  "vscode": {
   "interpreter": {
    "hash": "e7370f93d1d0cde622a1f8e1c04877d8463912d04d973331ad4851f04de6915a"
   }
  }
 },
 "nbformat": 4,
 "nbformat_minor": 2
}
