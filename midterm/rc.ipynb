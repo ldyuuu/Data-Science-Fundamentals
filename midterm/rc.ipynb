{
 "cells": [
  {
   "cell_type": "code",
   "execution_count": 19,
   "id": "7d873f60",
   "metadata": {},
   "outputs": [],
   "source": [
    "import pandas as pd\n",
    "from sklearn.model_selection import train_test_split\n",
    "from sklearn.neighbors import KNeighborsClassifier\n",
    "from sklearn.metrics import accuracy_score\n",
    "from sklearn.preprocessing import StandardScaler\n",
    "import matplotlib.pyplot as plt\n",
    "from sklearn.impute import SimpleImputer\n",
    "from sklearn.cluster import KMeans\n",
    "from datetime import datetime\n",
    "import numpy as np\n",
    "train_df1 = pd.read_csv(\"train.csv\")\n",
    "test_df = pd.read_csv(\"test.csv\")"
   ]
  },
  {
   "cell_type": "code",
   "execution_count": 20,
   "id": "65f388b2",
   "metadata": {},
   "outputs": [],
   "source": [
    "def calculate_age_at_trans(birthdate_str, trans_date_str):\n",
    "    birthdate = datetime.strptime(birthdate_str, \"%d/%m/%Y\")\n",
    "    trans_date = datetime.strptime(trans_date_str.split()[0], \"%d/%m/%Y\")  # 假设日期格式是“dd/mm/YYYY”并且时间是以空格分隔的\n",
    "    age = trans_date.year - birthdate.year - ((trans_date.month, trans_date.day) < (birthdate.month, birthdate.day))\n",
    "    return age\n",
    "\n",
    "# 在train_df中添加年龄列\n",
    "train_df1['age_at_trans'] = train_df1.apply(lambda row: calculate_age_at_trans(row['dob'], row['trans_date_trans_time']), axis=1)\n"
   ]
  },
  {
   "cell_type": "code",
   "execution_count": null,
   "id": "b50a7de0",
   "metadata": {},
   "outputs": [],
   "source": [
    "\n",
    "train_df1['city_category'] = pd.qcut(train_df['city_pop'], 5, labels=[1, 2, 3, 4, 5])\n",
    "\n",
    "train_df1.head(10)\n",
    "# 从train_df中分离出包含is_fraud非空的数据用于训练和验证\n",
    "df_train = train_df1.dropna(subset=['is_fraud'])\n",
    "\n",
    "# 选择数值型特征列，除了目标变量'is_fraud'\n",
    "features = df_train.select_dtypes(include=[np.number]).columns.drop('is_fraud')\n",
    "\n",
    "# 定义特征变量和目标变量\n",
    "X = df_train[features]\n",
    "y = df_train['is_fraud']\n",
    "\n",
    "# 划分训练集和验证集\n",
    "X_train, X_val, y_train, y_val = train_test_split(X, y, test_size=0.2, random_state=42)\n",
    "\n",
    "# 应用标准化\n",
    "scaler = StandardScaler()\n",
    "X_train_scaled = scaler.fit_transform(X_train)\n",
    "X_val_scaled = scaler.transform(X_val)\n",
    "\n",
    "# KNN模型\n",
    "knn = KNeighborsClassifier()\n",
    "knn.fit(X_train_scaled, y_train)\n",
    "y_pred_knn = knn.predict(X_val_scaled)\n",
    "print(\"KNN Accuracy:\", accuracy_score(y_val, y_pred_knn))\n",
    "\n",
    "# 决策树模型\n",
    "from sklearn.tree import DecisionTreeClassifier\n",
    "dt = DecisionTreeClassifier(random_state=42)\n",
    "dt.fit(X_train_scaled, y_train)\n",
    "y_pred_dt = dt.predict(X_val_scaled)\n",
    "print(\"Decision Tree Accuracy:\", accuracy_score(y_val, y_pred_dt))\n",
    "\n",
    "\n",
    "\n",
    "# 注意：由于这是一个示例，实际的模型参数应根据问题的性质进行调整。\n"
   ]
  },
  {
   "cell_type": "code",
   "execution_count": 26,
   "id": "dc47ddb0",
   "metadata": {},
   "outputs": [],
   "source": [
    "test_features = train_df1.loc[train_df['Id'].isin(test_df['Id'])]\n",
    "X_test = test_features.select_dtypes(include=[np.number]).drop(columns=['is_fraud'])\n",
    "\n",
    "# 标准化测试数据\n",
    "X_test_scaled = scaler.transform(X_test)\n",
    "\n",
    "# 进行预测\n",
    "test_predictions = dt.predict(X_test_scaled)\n",
    "\n",
    "# 将预测结果添加到test_df DataFrame\n",
    "test_df['is_fraud_pred'] = test_predictions\n",
    "\n",
    "# 保存结果到CSV文件\n",
    "test_df[['Id', 'is_fraud_pred']].to_csv('prediction_results.csv', index=False)"
   ]
  },
  {
   "cell_type": "code",
   "execution_count": null,
   "id": "51d945c9",
   "metadata": {},
   "outputs": [],
   "source": []
  }
 ],
 "metadata": {
  "kernelspec": {
   "display_name": "Python 3 (ipykernel)",
   "language": "python",
   "name": "python3"
  },
  "language_info": {
   "codemirror_mode": {
    "name": "ipython",
    "version": 3
   },
   "file_extension": ".py",
   "mimetype": "text/x-python",
   "name": "python",
   "nbconvert_exporter": "python",
   "pygments_lexer": "ipython3",
   "version": "3.11.5"
  }
 },
 "nbformat": 4,
 "nbformat_minor": 5
}
