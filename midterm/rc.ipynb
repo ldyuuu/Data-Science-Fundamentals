{
 "cells": [
  {
   "cell_type": "code",
   "execution_count": 19,
   "id": "7d873f60",
   "metadata": {},
   "outputs": [],
   "source": [
    "import pandas as pd\n",
    "from sklearn.model_selection import train_test_split\n",
    "from sklearn.neighbors import KNeighborsClassifier\n",
    "from sklearn.metrics import accuracy_score\n",
    "from sklearn.preprocessing import StandardScaler\n",
    "import matplotlib.pyplot as plt\n",
    "from sklearn.impute import SimpleImputer\n",
    "from sklearn.cluster import KMeans\n",
    "from datetime import datetime\n",
    "import numpy as np\n",
    "from sklearn.metrics import accuracy_score, confusion_matrix, f1_score\n",
    "train_df1 = pd.read_csv(\"train.csv\")\n",
    "test_df = pd.read_csv(\"test.csv\")\n",
    "train_df1.head()"
   ]
  },
  {
   "cell_type": "code",
   "execution_count": 20,
   "id": "65f388b2",
   "metadata": {},
   "outputs": [],
   "source": [
    "def calculate_age_at_trans(birthdate_str, trans_date_str):\n",
    "    birthdate = datetime.strptime(birthdate_str, \"%d/%m/%Y\")\n",
    "    trans_date = datetime.strptime(trans_date_str.split()[0], \"%d/%m/%Y\")  # 假设日期格式是“dd/mm/YYYY”并且时间是以空格分隔的\n",
    "    age = trans_date.year - birthdate.year - ((trans_date.month, trans_date.day) < (birthdate.month, birthdate.day))\n",
    "    return age\n",
    "\n",
    "# 在train_df中添加年龄列\n",
    "train_df1['age_at_trans'] = train_df1.apply(lambda row: calculate_age_at_trans(row['dob'], row['trans_date_trans_time']), axis=1)\n",
    "category_avg_amt = train_df1.groupby('category')['amt'].mean().reset_index(name='avg_amt')\n",
    "\n",
    "# 将平均交易金额的数据合并回原始数据集\n",
    "train_df1 = train_df1.merge(category_avg_amt, on='category', how='left')\n",
    "\n",
    "# 计算差值并将其作为新列添加到数据集中\n",
    "train_df1['amt_diff_from_category_avg'] = train_df1['amt'] - train_df1['avg_amt']\n",
    "\n",
    "# 查看更新后的数据集前几行\n",
    "train_df1.head()\n"
   ]
  },
  {
   "cell_type": "code",
   "execution_count": null,
   "id": "b50a7de0",
   "metadata": {},
   "outputs": [],
   "source": [
    "job_avg_amt = train_df1.groupby('job')['amt'].mean().reset_index(name='job_avg_amt')\n",
    "\n",
    "# 将平均交易金额的数据合并回原始数据集\n",
    "train_df1 = train_df1.merge(job_avg_amt, on='job', how='left')\n",
    "\n",
    "# 计算差值并将其作为新列添加到数据集中\n",
    "train_df1['amt_diff_from_job_avg'] = train_df1['amt'] - train_df1['job_avg_amt']\n",
    "train_df1.head()"
   ]
  },
  {
   "cell_type": "code",
   "execution_count": 26,
   "id": "dc47ddb0",
   "metadata": {},
   "outputs": [],
   "source": [
    "train_df1['distance'] = np.sqrt((train_df1['merch_lat'] - train_df1['lat'])**2 + (train_df1['merch_long'] - train_df1['long'])**2)\n",
    "# 查看更新后的数据集前几行\n",
    "train_df1['category_code'] = pd.factorize(train_df1['category'])[0]\n",
    "\n",
    "# 对'merchant'列进行编号\n",
    "train_df1['merchant_code'] = pd.factorize(train_df1['merchant'])[0]\n",
    "\n",
    "# 对'job'列进行编号\n",
    "train_df1['job_code'] = pd.factorize(train_df1['job'])[0]\n",
    "train_df1['gender_code'] = pd.factorize(train_df1['gender'])[0]\n",
    "train_df1['city_category'] = pd.qcut(train_df['city_pop'], 5, labels=[1, 2, 3, 4, 5])\n"
   ]
  },
  {
   "cell_type": "code",
   "execution_count": null,
   "id": "51d945c9",
   "metadata": {},
   "outputs": [],
   "source": [
    "\n",
    "# 从train_df中分离出包含is_fraud非空的数据用于训练和验证\n",
    "df_train = train_df1.dropna(subset=['is_fraud'])\n",
    "\n",
    "# 选择数值型特征列，除了目标变量'is_fraud'\n",
    "features = df_train.select_dtypes(include=[np.number]).columns.drop('is_fraud')\n",
    "specified_columns = ['unix_time','amt','zip','age_at_trans','lat','long','merch_lat','merch_long','city_category','category_code','merchant_code','job_code','cc_num','job_avg_amt','amt_diff_from_category_avg'] \n",
    "# 定义特征变量和目标变量\n",
    "X = df_train[specified_columns]\n",
    "y = df_train['is_fraud']\n",
    "\n",
    "# 划分训练集和验证集\n",
    "X_train, X_val, y_train, y_val = train_test_split(X, y, test_size=0.2, random_state=42)\n",
    "\n",
    "# 应用标准化\n",
    "scaler = StandardScaler()\n",
    "X_train_scaled = scaler.fit_transform(X_train)\n",
    "X_val_scaled = scaler.transform(X_val)\n",
    "\n"
   ]
  },
  {
   "cell_type": "code",
   "execution_count": null,
   "id": "16d3fd98",
   "metadata": {},
   "outputs": [],
   "source": [
    "pip install xgboost"
   ]
  },
  {
   "cell_type": "code",
   "execution_count": null,
   "id": "e6e862e5",
   "metadata": {},
   "outputs": [],
   "source": [
    "\n",
    "# 决策树模型\n",
    "from sklearn.tree import DecisionTreeClassifier\n",
    "dt = DecisionTreeClassifier(random_state=42)\n",
    "dt.fit(X_train_scaled, y_train)\n",
    "y_pred_dt = dt.predict(X_val_scaled)\n",
    "print(\"Decision Tree Accuracy:\", f1_score(y_val, y_pred_dt))\n",
    "\n",
    "\n",
    "\n",
    "# 注意：由于这是一个示例，实际的模型参数应根据问题的性质进行调整。\n"
   ]
  },
  {
   "cell_type": "code",
   "execution_count": null,
   "id": "101554e5",
   "metadata": {},
   "outputs": [],
   "source": [
    "import xgboost as xgb\n",
    "model = xgb.XGBClassifier(use_label_encoder=False, eval_metric='logloss')  # 如果是回归问题，使用XGBRegressor\n",
    "model.fit(X_train_scaled, y_train)\n",
    "\n",
    "\n",
    "\n",
    "# 评估模型\n",
    "y_pred_dt = model.predict(X_val_scaled)\n",
    "print(\"XGBC:\", f1_score(y_val, y_pred_dt))\n"
   ]
  },
  {
   "cell_type": "code",
   "execution_count": null,
   "id": "e7ad54ae",
   "metadata": {},
   "outputs": [],
   "source": [
    "from sklearn.model_selection import GridSearchCV\n",
    "model = xgb.XGBClassifier(use_label_encoder=False, eval_metric='logloss')\n",
    "\n",
    "# 定义要测试的参数网格\n",
    "param_grid = {\n",
    "    'n_estimators': [100, 200, 300],  # 树的数量\n",
    "    'learning_rate': [0.01, 0.05, 0.1],  # 学习率\n",
    "    'max_depth': [3, 4, 5],  # 树的深度\n",
    "    'colsample_bytree': [0.7, 0.8],  # 每棵树随机采样的比例\n",
    "    'subsample': [0.7, 0.8]  # 建立树时对样本的随机采样比例\n",
    "}\n",
    "\n",
    "# 创建GridSearchCV对象\n",
    "grid_search = GridSearchCV(estimator=model, param_grid=param_grid, \n",
    "                           scoring='f1',  # 评估指标\n",
    "                           cv=5,  # 交叉验证折数\n",
    "                           verbose=1,  # 显示训练过程\n",
    "                           n_jobs=-1)  # 使用所有CPU核心\n",
    "\n",
    "# 执行网格搜索\n",
    "grid_search.fit(X_train_scaled, y_train)\n",
    "\n",
    "# 输出最佳参数和对应的准确率\n",
    "print(\"Best parameters found: \", grid_search.best_params_)\n",
    "print(\"Best accuracy found: \", grid_search.best_score_)"
   ]
  },
  {
   "cell_type": "code",
   "execution_count": null,
   "id": "fb2fc32d",
   "metadata": {},
   "outputs": [],
   "source": [
    "test_features = train_df1.loc[train_df['Id'].isin(test_df['Id'])]\n",
    "X_test = test_features.select_dtypes(include=[np.number]).drop(columns=['is_fraud'])\n",
    "\n",
    "# 标准化测试数据\n",
    "X_test_scaled = scaler.transform(X_test)\n",
    "\n",
    "# 进行预测\n",
    "test_predictions = dt.predict(X_test_scaled)\n",
    "\n",
    "# 将预测结果添加到test_df DataFrame\n",
    "test_df['is_fraud_pred'] = test_predictions\n",
    "\n",
    "# 保存结果到CSV文件\n",
    "test_df[['Id', 'is_fraud_pred']].to_csv('prediction_results.csv', index=False)"
   ]
  }
 ],
 "metadata": {
  "kernelspec": {
   "display_name": "Python 3 (ipykernel)",
   "language": "python",
   "name": "python3"
  },
  "language_info": {
   "codemirror_mode": {
    "name": "ipython",
    "version": 3
   },
   "file_extension": ".py",
   "mimetype": "text/x-python",
   "name": "python",
   "nbconvert_exporter": "python",
   "pygments_lexer": "ipython3",
   "version": "3.11.5"
  }
 },
 "nbformat": 4,
 "nbformat_minor": 5
}
